{
 "cells": [
  {
   "cell_type": "code",
   "execution_count": 1,
   "metadata": {},
   "outputs": [
    {
     "name": "stderr",
     "output_type": "stream",
     "text": [
      "Using TensorFlow backend.\n"
     ]
    }
   ],
   "source": [
    "# Import libraries\n",
    "import numpy as np\n",
    "import pandas as pd\n",
    "from keras.layers import Dropout\n",
    "import os\n",
    "import cv2\n",
    "from sklearn.model_selection import cross_val_score\n",
    "from tqdm import tqdm\n",
    "import matplotlib.pyplot as plt\n",
    "import seaborn as sns\n",
    "from sklearn.model_selection import cross_val_score\n",
    "from sklearn.metrics import accuracy_score\n",
    "from sklearn.preprocessing import LabelEncoder\n",
    "from sklearn.model_selection import KFold\n",
    "import keras\n",
    "from keras.constraints import maxnorm\n",
    "from keras.optimizers import SGD\n",
    "from keras.layers import Dense, Flatten\n",
    "from keras.layers import Conv2D, MaxPooling2D\n",
    "from keras.models import Sequential\n",
    "from keras.wrappers.scikit_learn import KerasClassifier\n",
    "%matplotlib inline"
   ]
  },
  {
   "cell_type": "code",
   "execution_count": 2,
   "metadata": {
    "collapsed": true
   },
   "outputs": [],
   "source": [
    "# load files\n",
    "train = pd.read_csv(r'C:\\Users\\sdinu\\OneDrive\\Documents\\02 MS BA\\04 Fall 2017\\IDS594 Machine Learning with Python\\02 Project\\01 Dataset\\train.csv')\n",
    "test = pd.read_csv(r'C:\\Users\\sdinu\\OneDrive\\Documents\\02 MS BA\\04 Fall 2017\\IDS594 Machine Learning with Python\\02 Project\\01 Dataset\\test.csv')"
   ]
  },
  {
   "cell_type": "code",
   "execution_count": 3,
   "metadata": {
    "collapsed": true
   },
   "outputs": [],
   "source": [
    "# fix random seed for reproducibility\n",
    "seed = 7\n",
    "np.random.seed(seed)"
   ]
  },
  {
   "cell_type": "code",
   "execution_count": 7,
   "metadata": {
    "collapsed": true
   },
   "outputs": [],
   "source": [
    "# set path to read train and test image\n",
    "TRAIN_PATH = 'C:/Users/sdinu/OneDrive/Documents/02 MS BA/04 Fall 2017/IDS594 Machine Learning with Python/02 Project/01 Dataset/train_img/'\n",
    "TEST_PATH = 'C:/Users/sdinu/OneDrive/Documents/02 MS BA/04 Fall 2017/IDS594 Machine Learning with Python/02 Project/01 Dataset/test_img/'"
   ]
  },
  {
   "cell_type": "code",
   "execution_count": 8,
   "metadata": {
    "collapsed": true
   },
   "outputs": [],
   "source": [
    "# function to read images as arrays\n",
    "def read_image(img_path):\n",
    "    img = cv2.imread(img_path, cv2.IMREAD_COLOR)\n",
    "    img = cv2.cvtColor(img, cv2.COLOR_BGR2RGB)\n",
    "    img = cv2.resize(img, (128,128)) # you can resize to  (128,128) or (256,256)\n",
    "    return img"
   ]
  },
  {
   "cell_type": "code",
   "execution_count": 9,
   "metadata": {},
   "outputs": [
    {
     "name": "stderr",
     "output_type": "stream",
     "text": [
      "100%|██████████████████████████████████████████████████████████████████████████████| 2250/2250 [00:52<00:00, 43.00it/s]\n",
      "100%|████████████████████████████████████████████████████████████████████████████████| 965/965 [00:10<00:00, 94.81it/s]\n"
     ]
    },
    {
     "name": "stdout",
     "output_type": "stream",
     "text": [
      "(2250, 128, 128, 3)\n",
      "(965, 128, 128, 3)\n"
     ]
    }
   ],
   "source": [
    "# Read images and store it as an array\n",
    "train_data = []\n",
    "test_data = []\n",
    "train_labels = train['label'].values\n",
    "\n",
    "for img in tqdm(train['image_id'].values):\n",
    "    train_data.append(read_image(TRAIN_PATH + '{}.png'.format(img)))\n",
    "\n",
    "train_array = np.asarray(train_data)\n",
    "    \n",
    "for img in tqdm(test['image_id'].values):\n",
    "    test_data.append(read_image(TEST_PATH + '{}.png'.format(img)))\n",
    "\n",
    "test_array = np.asarray(test_data)\n",
    "    \n",
    "train_array = train_array.reshape(train_array.shape[0], 128, 128, 3).astype('float32')\n",
    "test_array = test_array.reshape(test_array.shape[0], 128, 128, 3).astype('float32')\n",
    "\n",
    "train_array /= 255\n",
    "test_array /= 255\n",
    "print(train_array.shape)\n",
    "print(test_array.shape)"
   ]
  },
  {
   "cell_type": "code",
   "execution_count": 10,
   "metadata": {
    "collapsed": true
   },
   "outputs": [],
   "source": [
    "# target variable - encoding numeric value\n",
    "label_list = train['label'].tolist()\n",
    "Y_train = {k:v for v,k in enumerate(set(label_list))}\n",
    "y_train = [Y_train[k] for k in label_list]\n",
    "\n",
    "label_list = test['label'].tolist()\n",
    "Y_test = {k:v for v,k in enumerate(set(label_list))}\n",
    "y_test = [Y_test[k] for k in label_list]"
   ]
  },
  {
   "cell_type": "code",
   "execution_count": 11,
   "metadata": {
    "collapsed": true
   },
   "outputs": [],
   "source": [
    "num_classes = 25\n",
    "y_train = keras.utils.to_categorical(y_train, num_classes)\n",
    "y_test = keras.utils.to_categorical(y_test, num_classes)"
   ]
  },
  {
   "cell_type": "code",
   "execution_count": 12,
   "metadata": {
    "collapsed": true
   },
   "outputs": [],
   "source": [
    "# Best Model\n",
    "model = Sequential()\n",
    "model.add(Conv2D(32, kernel_size=(3, 3), strides=(1, 1),\n",
    "                 activation='relu', kernel_initializer='zero',\n",
    "                 input_shape=(128, 128, 3)))\n",
    "model.add(MaxPooling2D(pool_size=(2, 2)))\n",
    "\n",
    "model.add(Conv2D(32, kernel_size=(3, 3), activation='relu', kernel_initializer='zero'))\n",
    "model.add(MaxPooling2D(pool_size=(2, 2)))\n",
    "\n",
    "model.add(Conv2D(64, kernel_size=(3, 3), activation='relu', kernel_initializer='zero'))\n",
    "model.add(MaxPooling2D(pool_size=(2, 2)))\n",
    "    \n",
    "model.add(Conv2D(128, kernel_size=(3, 3), activation='relu', kernel_initializer='zero'))\n",
    "model.add(MaxPooling2D(pool_size=(2, 2)))\n",
    "    \n",
    "model.add(Flatten())\n",
    "model.add(Dense(64, activation='relu'))\n",
    "model.add(Dense(num_classes, activation='softmax'))\n",
    "    \n",
    "optimizer = Adagrad(lr=0.005)\n",
    "model.compile(loss=keras.losses.categorical_crossentropy,\n",
    "              optimizer=optimizer,\n",
    "              metrics=['accuracy'])"
   ]
  },
  {
   "cell_type": "code",
   "execution_count": 13,
   "metadata": {},
   "outputs": [
    {
     "name": "stdout",
     "output_type": "stream",
     "text": [
      "Train on 2250 samples, validate on 965 samples\n",
      "Epoch 1/10\n",
      "2250/2250 [==============================] - ETA: 72s - loss: 3.2564 - acc: 0.05 - ETA: 55s - loss: 3.3251 - acc: 0.03 - ETA: 46s - loss: 3.3114 - acc: 0.04 - ETA: 41s - loss: 3.2911 - acc: 0.04 - ETA: 36s - loss: 3.2828 - acc: 0.05 - ETA: 33s - loss: 3.2732 - acc: 0.06 - ETA: 30s - loss: 3.2675 - acc: 0.06 - ETA: 28s - loss: 3.2635 - acc: 0.05 - ETA: 24s - loss: 3.2626 - acc: 0.05 - ETA: 21s - loss: 3.2625 - acc: 0.05 - ETA: 18s - loss: 3.2608 - acc: 0.05 - ETA: 15s - loss: 3.2593 - acc: 0.05 - ETA: 12s - loss: 3.2583 - acc: 0.05 - ETA: 9s - loss: 3.2567 - acc: 0.0569 - ETA: 7s - loss: 3.2562 - acc: 0.055 - ETA: 4s - loss: 3.2548 - acc: 0.055 - ETA: 1s - loss: 3.2540 - acc: 0.056 - 54s - loss: 3.2534 - acc: 0.0564 - val_loss: 3.2145 - val_acc: 0.0632\n",
      "Epoch 2/10\n",
      "2250/2250 [==============================] - ETA: 42s - loss: 3.2155 - acc: 0.05 - ETA: 40s - loss: 3.2254 - acc: 0.05 - ETA: 37s - loss: 3.2219 - acc: 0.05 - ETA: 34s - loss: 3.2158 - acc: 0.06 - ETA: 31s - loss: 3.2122 - acc: 0.06 - ETA: 29s - loss: 3.2115 - acc: 0.05 - ETA: 26s - loss: 3.2120 - acc: 0.06 - ETA: 24s - loss: 3.2137 - acc: 0.06 - ETA: 21s - loss: 3.2097 - acc: 0.06 - ETA: 18s - loss: 3.2124 - acc: 0.06 - ETA: 16s - loss: 3.2107 - acc: 0.06 - ETA: 13s - loss: 3.2075 - acc: 0.06 - ETA: 11s - loss: 3.2078 - acc: 0.06 - ETA: 8s - loss: 3.2078 - acc: 0.0670 - ETA: 6s - loss: 3.2054 - acc: 0.066 - ETA: 3s - loss: 3.2053 - acc: 0.067 - ETA: 1s - loss: 3.2044 - acc: 0.067 - 50s - loss: 3.2032 - acc: 0.0680 - val_loss: 3.1841 - val_acc: 0.0674\n",
      "Epoch 3/10\n",
      "2250/2250 [==============================] - ETA: 42s - loss: 3.1640 - acc: 0.08 - ETA: 38s - loss: 3.1539 - acc: 0.09 - ETA: 37s - loss: 3.1454 - acc: 0.08 - ETA: 34s - loss: 3.1402 - acc: 0.08 - ETA: 31s - loss: 3.1498 - acc: 0.07 - ETA: 29s - loss: 3.1545 - acc: 0.07 - ETA: 26s - loss: 3.1476 - acc: 0.07 - ETA: 23s - loss: 3.1495 - acc: 0.08 - ETA: 21s - loss: 3.1540 - acc: 0.07 - ETA: 18s - loss: 3.1597 - acc: 0.07 - ETA: 16s - loss: 3.1618 - acc: 0.07 - ETA: 13s - loss: 3.1604 - acc: 0.07 - ETA: 11s - loss: 3.1578 - acc: 0.07 - ETA: 8s - loss: 3.1540 - acc: 0.0804 - ETA: 6s - loss: 3.1564 - acc: 0.080 - ETA: 3s - loss: 3.1518 - acc: 0.083 - ETA: 1s - loss: 3.1515 - acc: 0.084 - 50s - loss: 3.1525 - acc: 0.0840 - val_loss: 3.1793 - val_acc: 0.0777\n",
      "Epoch 4/10\n",
      "2250/2250 [==============================] - ETA: 41s - loss: 3.1570 - acc: 0.08 - ETA: 38s - loss: 3.1538 - acc: 0.06 - ETA: 36s - loss: 3.1338 - acc: 0.07 - ETA: 33s - loss: 3.1264 - acc: 0.08 - ETA: 31s - loss: 3.1185 - acc: 0.08 - ETA: 28s - loss: 3.1084 - acc: 0.08 - ETA: 26s - loss: 3.1025 - acc: 0.08 - ETA: 23s - loss: 3.1058 - acc: 0.09 - ETA: 21s - loss: 3.1091 - acc: 0.09 - ETA: 18s - loss: 3.1086 - acc: 0.09 - ETA: 16s - loss: 3.1107 - acc: 0.09 - ETA: 13s - loss: 3.1093 - acc: 0.09 - ETA: 11s - loss: 3.1085 - acc: 0.09 - ETA: 8s - loss: 3.1027 - acc: 0.0982 - ETA: 6s - loss: 3.0985 - acc: 0.101 - ETA: 3s - loss: 3.0977 - acc: 0.102 - ETA: 1s - loss: 3.0923 - acc: 0.106 - 53s - loss: 3.0916 - acc: 0.1062 - val_loss: 3.1669 - val_acc: 0.0839\n",
      "Epoch 5/10\n",
      "2250/2250 [==============================] - ETA: 49s - loss: 3.0446 - acc: 0.13 - ETA: 47s - loss: 3.0214 - acc: 0.11 - ETA: 44s - loss: 3.0388 - acc: 0.10 - ETA: 42s - loss: 3.0445 - acc: 0.11 - ETA: 40s - loss: 3.0323 - acc: 0.12 - ETA: 37s - loss: 3.0363 - acc: 0.11 - ETA: 33s - loss: 3.0428 - acc: 0.11 - ETA: 29s - loss: 3.0353 - acc: 0.12 - ETA: 26s - loss: 3.0447 - acc: 0.11 - ETA: 22s - loss: 3.0405 - acc: 0.12 - ETA: 19s - loss: 3.0375 - acc: 0.12 - ETA: 16s - loss: 3.0351 - acc: 0.12 - ETA: 13s - loss: 3.0426 - acc: 0.12 - ETA: 10s - loss: 3.0308 - acc: 0.13 - ETA: 7s - loss: 3.0266 - acc: 0.1333 - ETA: 4s - loss: 3.0254 - acc: 0.133 - ETA: 1s - loss: 3.0302 - acc: 0.131 - 59s - loss: 3.0348 - acc: 0.1289 - val_loss: 3.1915 - val_acc: 0.0663\n",
      "Epoch 6/10\n",
      "2250/2250 [==============================] - ETA: 42s - loss: 2.9375 - acc: 0.14 - ETA: 38s - loss: 2.9685 - acc: 0.13 - ETA: 36s - loss: 3.0045 - acc: 0.12 - ETA: 33s - loss: 3.0295 - acc: 0.11 - ETA: 31s - loss: 3.0190 - acc: 0.10 - ETA: 28s - loss: 3.0161 - acc: 0.11 - ETA: 26s - loss: 3.0183 - acc: 0.11 - ETA: 23s - loss: 3.0161 - acc: 0.12 - ETA: 21s - loss: 2.9932 - acc: 0.13 - ETA: 18s - loss: 2.9892 - acc: 0.14 - ETA: 16s - loss: 2.9908 - acc: 0.14 - ETA: 13s - loss: 2.9894 - acc: 0.14 - ETA: 11s - loss: 2.9841 - acc: 0.14 - ETA: 8s - loss: 2.9887 - acc: 0.1412 - ETA: 6s - loss: 2.9860 - acc: 0.142 - ETA: 3s - loss: 2.9811 - acc: 0.144 - ETA: 1s - loss: 2.9770 - acc: 0.144 - 50s - loss: 2.9821 - acc: 0.1418 - val_loss: 3.1694 - val_acc: 0.0694\n",
      "Epoch 7/10\n",
      "2250/2250 [==============================] - ETA: 41s - loss: 2.9429 - acc: 0.12 - ETA: 38s - loss: 2.9198 - acc: 0.13 - ETA: 36s - loss: 2.9428 - acc: 0.13 - ETA: 33s - loss: 2.9534 - acc: 0.13 - ETA: 31s - loss: 2.9351 - acc: 0.15 - ETA: 28s - loss: 2.9389 - acc: 0.15 - ETA: 26s - loss: 2.9349 - acc: 0.15 - ETA: 23s - loss: 2.9401 - acc: 0.15 - ETA: 21s - loss: 2.9261 - acc: 0.16 - ETA: 19s - loss: 2.9169 - acc: 0.16 - ETA: 16s - loss: 2.9260 - acc: 0.16 - ETA: 14s - loss: 2.9228 - acc: 0.16 - ETA: 11s - loss: 2.9135 - acc: 0.16 - ETA: 9s - loss: 2.9111 - acc: 0.1635 - ETA: 6s - loss: 2.9164 - acc: 0.160 - ETA: 4s - loss: 2.9035 - acc: 0.161 - ETA: 1s - loss: 2.8999 - acc: 0.162 - 51s - loss: 2.8993 - acc: 0.1613 - val_loss: 3.2015 - val_acc: 0.0870\n",
      "Epoch 8/10\n",
      "2250/2250 [==============================] - ETA: 42s - loss: 3.0075 - acc: 0.14 - ETA: 38s - loss: 2.9451 - acc: 0.15 - ETA: 35s - loss: 2.8935 - acc: 0.19 - ETA: 33s - loss: 2.8776 - acc: 0.18 - ETA: 31s - loss: 2.8491 - acc: 0.19 - ETA: 28s - loss: 2.8591 - acc: 0.18 - ETA: 26s - loss: 2.8449 - acc: 0.19 - ETA: 23s - loss: 2.8493 - acc: 0.19 - ETA: 21s - loss: 2.8557 - acc: 0.18 - ETA: 18s - loss: 2.8589 - acc: 0.18 - ETA: 16s - loss: 2.8516 - acc: 0.18 - ETA: 13s - loss: 2.8548 - acc: 0.18 - ETA: 11s - loss: 2.8558 - acc: 0.17 - ETA: 8s - loss: 2.8493 - acc: 0.1791 - ETA: 6s - loss: 2.8500 - acc: 0.177 - ETA: 3s - loss: 2.8516 - acc: 0.174 - ETA: 1s - loss: 2.8475 - acc: 0.175 - 49s - loss: 2.8443 - acc: 0.1751 - val_loss: 3.1616 - val_acc: 0.0767\n",
      "Epoch 9/10\n",
      "2250/2250 [==============================] - ETA: 42s - loss: 2.7481 - acc: 0.21 - ETA: 38s - loss: 2.7832 - acc: 0.19 - ETA: 36s - loss: 2.7574 - acc: 0.20 - ETA: 33s - loss: 2.7536 - acc: 0.19 - ETA: 31s - loss: 2.7714 - acc: 0.19 - ETA: 28s - loss: 2.7723 - acc: 0.18 - ETA: 26s - loss: 2.7783 - acc: 0.18 - ETA: 23s - loss: 2.7794 - acc: 0.18 - ETA: 21s - loss: 2.7827 - acc: 0.18 - ETA: 18s - loss: 2.7841 - acc: 0.18 - ETA: 16s - loss: 2.7807 - acc: 0.18 - ETA: 13s - loss: 2.7910 - acc: 0.18 - ETA: 11s - loss: 2.7888 - acc: 0.18 - ETA: 8s - loss: 2.7900 - acc: 0.1881 - ETA: 6s - loss: 2.7971 - acc: 0.184 - ETA: 3s - loss: 2.8061 - acc: 0.182 - ETA: 1s - loss: 2.8113 - acc: 0.181 - 49s - loss: 2.8072 - acc: 0.1822 - val_loss: 3.1975 - val_acc: 0.0933\n",
      "Epoch 10/10\n",
      "2250/2250 [==============================] - ETA: 41s - loss: 2.7522 - acc: 0.21 - ETA: 38s - loss: 2.6526 - acc: 0.21 - ETA: 35s - loss: 2.6702 - acc: 0.21 - ETA: 33s - loss: 2.6727 - acc: 0.21 - ETA: 31s - loss: 2.6786 - acc: 0.20 - ETA: 28s - loss: 2.6887 - acc: 0.20 - ETA: 26s - loss: 2.6936 - acc: 0.19 - ETA: 23s - loss: 2.6800 - acc: 0.20 - ETA: 21s - loss: 2.6742 - acc: 0.20 - ETA: 18s - loss: 2.6685 - acc: 0.20 - ETA: 16s - loss: 2.6609 - acc: 0.20 - ETA: 13s - loss: 2.6694 - acc: 0.20 - ETA: 11s - loss: 2.6586 - acc: 0.21 - ETA: 8s - loss: 2.6582 - acc: 0.2148 - ETA: 6s - loss: 2.6635 - acc: 0.213 - ETA: 3s - loss: 2.6700 - acc: 0.210 - ETA: 1s - loss: 2.6828 - acc: 0.207 - 50s - loss: 2.6882 - acc: 0.2071 - val_loss: 3.1885 - val_acc: 0.0808\n"
     ]
    }
   ],
   "source": [
    "history=model.fit(train_array, y_train, batch_size=128, epochs=10, validation_data=(test_array, y_test))"
   ]
  },
  {
   "cell_type": "code",
   "execution_count": 14,
   "metadata": {},
   "outputs": [
    {
     "name": "stdout",
     "output_type": "stream",
     "text": [
      "Test loss: 3.18851141831\n",
      "Test accuracy: 0.080829015544\n"
     ]
    }
   ],
   "source": [
    "score = model.evaluate(test_array, y_test, verbose=0)\n",
    "print('Test loss:', score[0])\n",
    "print('Test accuracy:', score[1])"
   ]
  },
  {
   "cell_type": "code",
   "execution_count": 15,
   "metadata": {},
   "outputs": [
    {
     "data": {
      "image/png": "[encoded data removed]",
      "text/plain": [
       "<matplotlib.figure.Figure at 0x2a48046d8d0>"
      ]
     },
     "metadata": {},
     "output_type": "display_data"
    }
   ],
   "source": [
    "# summarize history for accuracy\n",
    "plt.plot(history.history['acc'])\n",
    "plt.plot(history.history['val_acc'])\n",
    "plt.title('model accuracy')\n",
    "plt.ylabel('accuracy')\n",
    "plt.xlabel('epoch')\n",
    "plt.legend(['train', 'test'], loc='upper left')\n",
    "plt.show()"
   ]
  },
  {
   "cell_type": "code",
   "execution_count": 16,
   "metadata": {},
   "outputs": [
    {
     "data": {
      "image/png": "[encoded data removed]",
      "text/plain": [
       "<matplotlib.figure.Figure at 0x2a481ca3518>"
      ]
     },
     "metadata": {},
     "output_type": "display_data"
    }
   ],
   "source": [
    "# summarize history for loss\n",
    "plt.plot(history.history['loss'])\n",
    "plt.plot(history.history['val_loss'])\n",
    "plt.title('model loss')\n",
    "plt.ylabel('loss')\n",
    "plt.xlabel('epoch')\n",
    "plt.legend(['train', 'test'], loc='upper left')\n",
    "plt.show()"
   ]
  }
 ],
 "metadata": {
  "kernelspec": {
   "display_name": "Python [default]",
   "language": "python",
   "name": "python3"
  },
  "language_info": {
   "codemirror_mode": {
    "name": "ipython",
    "version": 3
   },
   "file_extension": ".py",
   "mimetype": "text/x-python",
   "name": "python",
   "nbconvert_exporter": "python",
   "pygments_lexer": "ipython3",
   "version": "3.5.3"
  }
 },
 "nbformat": 4,
 "nbformat_minor": 2
}
