{
 "cells": [
  {
   "cell_type": "code",
   "execution_count": 54,
   "metadata": {
    "collapsed": true
   },
   "outputs": [],
   "source": [
    "# Import libraries\n",
    "import numpy as np\n",
    "import pandas as pd\n",
    "from keras.layers import Dropout\n",
    "import os\n",
    "import cv2\n",
    "from sklearn.model_selection import cross_val_score\n",
    "from tqdm import tqdm\n",
    "import matplotlib.pyplot as plt\n",
    "import seaborn as sns\n",
    "from sklearn.model_selection import cross_val_score\n",
    "from sklearn.metrics import accuracy_score\n",
    "from sklearn.preprocessing import LabelEncoder\n",
    "from sklearn.model_selection import KFold\n",
    "import keras\n",
    "from keras.constraints import maxnorm\n",
    "from keras.optimizers import SGD\n",
    "from keras.layers import Dense, Flatten\n",
    "from keras.layers import Conv2D, MaxPooling2D\n",
    "from keras.models import Sequential\n",
    "from keras.wrappers.scikit_learn import KerasClassifier\n",
    "from sklearn import svm\n",
    "from sklearn.externals import joblib\n",
    "%matplotlib inline"
   ]
  },
  {
   "cell_type": "code",
   "execution_count": 55,
   "metadata": {
    "collapsed": true
   },
   "outputs": [],
   "source": [
    "# load files\n",
    "train = pd.read_csv(r'/Users/Bhargavi/Desktop/ML_project/Dataset/train.csv')\n",
    "test = pd.read_csv(r'/Users/Bhargavi/Desktop/ML_project/Dataset/test.csv')"
   ]
  },
  {
   "cell_type": "code",
   "execution_count": 56,
   "metadata": {
    "collapsed": true
   },
   "outputs": [],
   "source": [
    "# fix random seed for reproducibility\n",
    "seed = 7\n",
    "np.random.seed(seed)"
   ]
  },
  {
   "cell_type": "code",
   "execution_count": 60,
   "metadata": {
    "collapsed": true
   },
   "outputs": [],
   "source": [
    "# set path to read train and test image\n",
    "TRAIN_PATH = '/Users/Bhargavi/Desktop/ML_project/Dataset/train_img/'\n",
    "TEST_PATH = '/Users/Bhargavi/Desktop/ML_project/Dataset/test_img/'"
   ]
  },
  {
   "cell_type": "code",
   "execution_count": 61,
   "metadata": {
    "collapsed": true
   },
   "outputs": [],
   "source": [
    "# function to read images as arrays\n",
    "def read_image(img_path):\n",
    "    img = cv2.imread(img_path, cv2.IMREAD_COLOR)\n",
    "    img = cv2.cvtColor(img, cv2.COLOR_BGR2RGB)\n",
    "    img = cv2.resize(img, (128,128)) # you can resize to  (128,128) or (256,256)\n",
    "    return img"
   ]
  },
  {
   "cell_type": "code",
   "execution_count": 62,
   "metadata": {},
   "outputs": [
    {
     "name": "stderr",
     "output_type": "stream",
     "text": [
      "100%|██████████| 2250/2250 [00:08<00:00, 257.54it/s]\n",
      "100%|██████████| 965/965 [00:03<00:00, 241.89it/s]\n"
     ]
    },
    {
     "name": "stdout",
     "output_type": "stream",
     "text": [
      "(2250, 128, 128, 3)\n",
      "(965, 128, 128, 3)\n"
     ]
    }
   ],
   "source": [
    "# Read and store images\n",
    "train_data = []\n",
    "test_data = []\n",
    "train_labels = train['label'].values\n",
    "\n",
    "for img in tqdm(train['image_id'].values):\n",
    "    train_data.append(read_image(TRAIN_PATH + '{}.png'.format(img)))\n",
    "\n",
    "train_array = np.asarray(train_data)\n",
    "    \n",
    "for img in tqdm(test['image_id'].values):\n",
    "    test_data.append(read_image(TEST_PATH + '{}.png'.format(img)))\n",
    "\n",
    "test_array = np.asarray(test_data)\n",
    "    \n",
    "train_array = train_array.reshape(train_array.shape[0], 128, 128, 3).astype('float32')\n",
    "test_array = test_array.reshape(test_array.shape[0], 128, 128, 3).astype('float32')\n",
    "\n",
    "train_array /= 255\n",
    "test_array /= 255\n",
    "print(train_array.shape)\n",
    "print(test_array.shape)"
   ]
  },
  {
   "cell_type": "code",
   "execution_count": 63,
   "metadata": {
    "collapsed": true
   },
   "outputs": [],
   "source": [
    "# target variable - encoding numeric value\n",
    "label_list = train['label'].tolist()\n",
    "Y_train = {k:v+1 for v,k in enumerate(set(label_list))}\n",
    "y_train = [Y_train[k] for k in label_list]\n",
    "\n",
    "label_list = test['label'].tolist()\n",
    "Y_test = {k:v+1 for v,k in enumerate(set(label_list))}\n",
    "y_test = [Y_test[k] for k in label_list]"
   ]
  },
  {
   "cell_type": "code",
   "execution_count": 64,
   "metadata": {
    "collapsed": true
   },
   "outputs": [],
   "source": [
    "num_classes = 26\n",
    "y_train = keras.utils.to_categorical(y_train, num_classes)\n",
    "y_test = keras.utils.to_categorical(y_test, num_classes)"
   ]
  },
  {
   "cell_type": "code",
   "execution_count": 65,
   "metadata": {},
   "outputs": [
    {
     "name": "stdout",
     "output_type": "stream",
     "text": [
      "(2250, 128, 128, 3)\n",
      "(2250, 26)\n",
      "(965, 128, 128, 3)\n",
      "(965, 26)\n"
     ]
    }
   ],
   "source": [
    "print(train_array.shape)\n",
    "print(y_train.shape)\n",
    "print(test_array.shape)\n",
    "print(y_test.shape)"
   ]
  },
  {
   "cell_type": "code",
   "execution_count": 99,
   "metadata": {},
   "outputs": [
    {
     "name": "stdout",
     "output_type": "stream",
     "text": [
      "(2250, 49152)\n",
      "(965, 49152)\n",
      "             precision    recall  f1-score   support\n",
      "\n",
      "          0       0.00      0.00      0.00         0\n",
      "          1       0.00      0.00      0.00         0\n",
      "          2       0.00      0.00      0.00         0\n",
      "          3       0.00      0.00      0.00         0\n",
      "          4       0.00      0.00      0.00         0\n",
      "          5       0.00      0.00      0.00         0\n",
      "          6       0.00      0.00      0.00         0\n",
      "          7       0.00      0.00      0.00         0\n",
      "          8       0.00      0.00      0.00         0\n",
      "          9       0.00      0.00      0.00         0\n",
      "         10       0.00      0.00      0.00         0\n",
      "         11       0.00      0.00      0.00         0\n",
      "         12       0.00      0.00      0.00         0\n",
      "         13       0.00      0.00      0.00         0\n",
      "         14       0.00      0.00      0.00         0\n",
      "         15       0.00      0.00      0.00         0\n",
      "         16       0.00      0.00      0.00         0\n",
      "         17       0.02      1.00      0.03         1\n",
      "         18       0.00      0.00      0.00         0\n",
      "         19       0.00      0.00      0.00         0\n",
      "         20       0.00      0.00      0.00         0\n",
      "         21       0.00      0.00      0.00         0\n",
      "         22       0.00      0.00      0.00         0\n",
      "         23       0.03      1.00      0.05         2\n",
      "         24       0.00      0.00      0.00         0\n",
      "         25       0.00      0.00      0.00         0\n",
      "\n",
      "avg / total       0.02      1.00      0.05         3\n",
      "\n"
     ]
    },
    {
     "name": "stderr",
     "output_type": "stream",
     "text": [
      "/Users/Bhargavi/anaconda3/lib/python3.6/site-packages/sklearn/metrics/classification.py:1135: UndefinedMetricWarning: Precision and F-score are ill-defined and being set to 0.0 in labels with no predicted samples.\n",
      "  'precision', 'predicted', average, warn_for)\n",
      "/Users/Bhargavi/anaconda3/lib/python3.6/site-packages/sklearn/metrics/classification.py:1137: UndefinedMetricWarning: Recall and F-score are ill-defined and being set to 0.0 in labels with no true samples.\n",
      "  'recall', 'true', average, warn_for)\n"
     ]
    }
   ],
   "source": [
    "# Random Forest model creation \n",
    "from sklearn.ensemble import RandomForestClassifier\n",
    "from sklearn.metrics import classification_report\n",
    "\n",
    "x_train = np.reshape(train_array, (train_array.shape[0], -1))\n",
    "x_test = np.reshape(test_array, (test_array.shape[0], -1))\n",
    "print(x_train.shape)\n",
    "print(x_test.shape)\n",
    "clf = RandomForestClassifier(n_estimators=50, max_depth=None,min_samples_split=20, random_state=1).fit(x_train,y_train)\n",
    "Results=clf.predict(x_test)\n",
    "\n",
    "# Classification report for RF \n",
    "print (classification_report(Results,y_test))"
   ]
  },
  {
   "cell_type": "code",
   "execution_count": 98,
   "metadata": {},
   "outputs": [
    {
     "name": "stdout",
     "output_type": "stream",
     "text": [
      "0.000888888888889\n"
     ]
    }
   ],
   "source": [
    "# Random Forest cross validation and accuracy scores\n",
    "\n",
    "from sklearn import model_selection\n",
    "clf = RandomForestClassifier(n_estimators=50, max_depth=None,min_samples_split=20, random_state=1).fit(x_train,y_train)\n",
    "results = model_selection.cross_val_score(clf, x_train,y_train, cv=5)\n",
    "print (results.mean())"
   ]
  }
 ],
 "metadata": {
  "kernelspec": {
   "display_name": "Python [default]",
   "language": "python",
   "name": "python3"
  },
  "language_info": {
   "codemirror_mode": {
    "name": "ipython",
    "version": 3
   },
   "file_extension": ".py",
   "mimetype": "text/x-python",
   "name": "python",
   "nbconvert_exporter": "python",
   "pygments_lexer": "ipython3",
   "version": "3.5.3"
  }
 },
 "nbformat": 4,
 "nbformat_minor": 2
}
